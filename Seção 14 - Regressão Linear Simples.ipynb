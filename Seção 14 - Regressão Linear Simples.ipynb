{
 "cells": [
  {
   "cell_type": "markdown",
   "metadata": {},
   "source": [
    "# Seção 14 - Regressão Linear Simples\n",
    "Para esta seção, usarei a base de dados plano_saude.csv do curso mesmo."
   ]
  },
  {
   "cell_type": "code",
   "execution_count": 8,
   "metadata": {},
   "outputs": [],
   "source": [
    "# Instruções basiconas de sempre.\n",
    "\n",
    "# Lidar com dataframes.\n",
    "import numpy as np\n",
    "import pandas as pd\n",
    "\n",
    "# Lidar com gráficos.\n",
    "import matplotlib.pyplot as plt\n",
    "import seaborn as sns\n",
    "import plotly\n",
    "from bokeh.plotting import figure\n",
    "from bokeh.io import show, output_notebook\n",
    "from plotting import (multiple_histograms_plot,\n",
    "                      bar_plot_with_categorical,\n",
    "                      plot_confusion_matrix,\n",
    "                      plot_confusion_matrix_2,\n",
    "                      plot_roc)\n",
    "\n",
    "# Lidar com preparação de dados.\n",
    "from data_prep import data_prep as dp # Eu que fiz esse modulinho (\"uuuuuuuuuma bosta!\").\n",
    "from sklearn.impute import SimpleImputer\n",
    "from sklearn.preprocessing import StandardScaler\n",
    "from sklearn.model_selection import train_test_split\n",
    "from sklearn.model_selection import cross_val_score\n",
    "\n",
    "# Lidar com validação de modelos.\n",
    "from sklearn.metrics import confusion_matrix, accuracy_score, classification_report\n",
    "from sklearn.model_selection import cross_val_score\n",
    "from sklearn.model_selection import StratifiedKFold\n",
    "\n",
    "pd.set_option('display.max_columns', None)  \n",
    "pd.set_option('display.max_colwidth', -1)\n",
    "pd.set_option('display.max_rows', 500)"
   ]
  },
  {
   "cell_type": "code",
   "execution_count": 9,
   "metadata": {},
   "outputs": [],
   "source": [
    "nomeDaBase = \"../bases/plano_saude.csv\"\n",
    "df = pd.read_csv(nomeDaBase, sep=\",\", encoding=\"utf-8\")"
   ]
  },
  {
   "cell_type": "code",
   "execution_count": 10,
   "metadata": {},
   "outputs": [
    {
     "data": {
      "text/html": [
       "<div>\n",
       "<style scoped>\n",
       "    .dataframe tbody tr th:only-of-type {\n",
       "        vertical-align: middle;\n",
       "    }\n",
       "\n",
       "    .dataframe tbody tr th {\n",
       "        vertical-align: top;\n",
       "    }\n",
       "\n",
       "    .dataframe thead th {\n",
       "        text-align: right;\n",
       "    }\n",
       "</style>\n",
       "<table border=\"1\" class=\"dataframe\">\n",
       "  <thead>\n",
       "    <tr style=\"text-align: right;\">\n",
       "      <th></th>\n",
       "      <th>0</th>\n",
       "      <th>7</th>\n",
       "      <th>4</th>\n",
       "      <th>8</th>\n",
       "      <th>2</th>\n",
       "    </tr>\n",
       "  </thead>\n",
       "  <tbody>\n",
       "    <tr>\n",
       "      <th>idade</th>\n",
       "      <td>18</td>\n",
       "      <td>53</td>\n",
       "      <td>38</td>\n",
       "      <td>58</td>\n",
       "      <td>28</td>\n",
       "    </tr>\n",
       "    <tr>\n",
       "      <th>custo</th>\n",
       "      <td>871</td>\n",
       "      <td>2454</td>\n",
       "      <td>1488</td>\n",
       "      <td>3066</td>\n",
       "      <td>1242</td>\n",
       "    </tr>\n",
       "  </tbody>\n",
       "</table>\n",
       "</div>"
      ],
      "text/plain": [
       "         0     7     4     8     2\n",
       "idade  18   53    38    58    28  \n",
       "custo  871  2454  1488  3066  1242"
      ]
     },
     "execution_count": 10,
     "metadata": {},
     "output_type": "execute_result"
    }
   ],
   "source": [
    "df.sample(5).T"
   ]
  },
  {
   "cell_type": "code",
   "execution_count": 11,
   "metadata": {},
   "outputs": [
    {
     "name": "stdout",
     "output_type": "stream",
     "text": [
      "<class 'pandas.core.frame.DataFrame'>\n",
      "RangeIndex: 10 entries, 0 to 9\n",
      "Data columns (total 2 columns):\n",
      "idade    10 non-null int64\n",
      "custo    10 non-null int64\n",
      "dtypes: int64(2)\n",
      "memory usage: 240.0 bytes\n"
     ]
    }
   ],
   "source": [
    "df.info()"
   ]
  },
  {
   "cell_type": "code",
   "execution_count": 12,
   "metadata": {},
   "outputs": [
    {
     "data": {
      "text/html": [
       "<div>\n",
       "<style scoped>\n",
       "    .dataframe tbody tr th:only-of-type {\n",
       "        vertical-align: middle;\n",
       "    }\n",
       "\n",
       "    .dataframe tbody tr th {\n",
       "        vertical-align: top;\n",
       "    }\n",
       "\n",
       "    .dataframe thead th {\n",
       "        text-align: right;\n",
       "    }\n",
       "</style>\n",
       "<table border=\"1\" class=\"dataframe\">\n",
       "  <thead>\n",
       "    <tr style=\"text-align: right;\">\n",
       "      <th></th>\n",
       "      <th>idade</th>\n",
       "      <th>custo</th>\n",
       "    </tr>\n",
       "  </thead>\n",
       "  <tbody>\n",
       "    <tr>\n",
       "      <th>count</th>\n",
       "      <td>10.000000</td>\n",
       "      <td>10.000000</td>\n",
       "    </tr>\n",
       "    <tr>\n",
       "      <th>mean</th>\n",
       "      <td>40.500000</td>\n",
       "      <td>1946.700000</td>\n",
       "    </tr>\n",
       "    <tr>\n",
       "      <th>std</th>\n",
       "      <td>15.138252</td>\n",
       "      <td>1006.071353</td>\n",
       "    </tr>\n",
       "    <tr>\n",
       "      <th>min</th>\n",
       "      <td>18.000000</td>\n",
       "      <td>871.000000</td>\n",
       "    </tr>\n",
       "    <tr>\n",
       "      <th>25%</th>\n",
       "      <td>29.250000</td>\n",
       "      <td>1270.500000</td>\n",
       "    </tr>\n",
       "    <tr>\n",
       "      <th>50%</th>\n",
       "      <td>40.500000</td>\n",
       "      <td>1563.000000</td>\n",
       "    </tr>\n",
       "    <tr>\n",
       "      <th>75%</th>\n",
       "      <td>51.750000</td>\n",
       "      <td>2373.000000</td>\n",
       "    </tr>\n",
       "    <tr>\n",
       "      <th>max</th>\n",
       "      <td>63.000000</td>\n",
       "      <td>4090.000000</td>\n",
       "    </tr>\n",
       "  </tbody>\n",
       "</table>\n",
       "</div>"
      ],
      "text/plain": [
       "           idade        custo\n",
       "count  10.000000  10.000000  \n",
       "mean   40.500000  1946.700000\n",
       "std    15.138252  1006.071353\n",
       "min    18.000000  871.000000 \n",
       "25%    29.250000  1270.500000\n",
       "50%    40.500000  1563.000000\n",
       "75%    51.750000  2373.000000\n",
       "max    63.000000  4090.000000"
      ]
     },
     "execution_count": 12,
     "metadata": {},
     "output_type": "execute_result"
    }
   ],
   "source": [
    "df.describe()"
   ]
  },
  {
   "cell_type": "markdown",
   "metadata": {},
   "source": [
    "### Breve análise da  base:\n",
    "Não foram encontrados problemas na base:\n",
    "\n",
    "- não há nulos;\n",
    "- não há valores que apresentam incosistências (ex.: negativos quando não é possível)."
   ]
  },
  {
   "cell_type": "code",
   "execution_count": 13,
   "metadata": {},
   "outputs": [],
   "source": [
    "# Separando os fatores/previsores da resposta/target:\n",
    "    \n",
    "x = df.iloc[:, 0].values.reshape(-1,1)\n",
    "y = df.iloc[:, 1].values.reshape(-1,1)\n",
    "\n",
    "# IMPORTANTE! Tive que fazer um reshape nos valores de x e y."
   ]
  },
  {
   "cell_type": "code",
   "execution_count": 14,
   "metadata": {},
   "outputs": [],
   "source": [
    "x_train, x_test, y_train, y_test = train_test_split(x, y, test_size=0.2, random_state=42)"
   ]
  },
  {
   "cell_type": "code",
   "execution_count": 15,
   "metadata": {},
   "outputs": [],
   "source": [
    "from sklearn.linear_model import LinearRegression\n",
    "regressor = LinearRegression()\n",
    "\n",
    "regressor.fit(x_train, y_train)\n",
    "y_pred = regressor.predict(x_test)"
   ]
  },
  {
   "cell_type": "code",
   "execution_count": 16,
   "metadata": {},
   "outputs": [
    {
     "name": "stdout",
     "output_type": "stream",
     "text": [
      "Intercepto = [-710.11896552]\n",
      "Coeficiente = [[64.66034483]]\n"
     ]
    }
   ],
   "source": [
    "print(\"Intercepto = {}\".format(regressor.intercept_))\n",
    "print(\"Coeficiente = {}\".format(regressor.coef_))"
   ]
  },
  {
   "cell_type": "markdown",
   "metadata": {},
   "source": [
    "### Visualisando:"
   ]
  },
  {
   "cell_type": "code",
   "execution_count": 17,
   "metadata": {},
   "outputs": [],
   "source": [
    "reta_x = np.linspace(min(x)-5, max(x)+5,100).reshape(-1,1)\n",
    "reta_y = regressor.predict(reta_x)\n",
    "reta_df = np.concatenate((reta_x, reta_y), axis=1)\n",
    "reta_df = pd.DataFrame(reta_df, columns=(\"x_idade\", \"y_custo\"))"
   ]
  },
  {
   "cell_type": "code",
   "execution_count": 18,
   "metadata": {},
   "outputs": [
    {
     "data": {
      "image/png": "[encoded data removed]",
      "text/plain": [
       "<Figure size 720x360 with 1 Axes>"
      ]
     },
     "metadata": {
      "needs_background": "light"
     },
     "output_type": "display_data"
    }
   ],
   "source": [
    "dimensoes = (10,5)\n",
    "fig, ax = plt.subplots(figsize=dimensoes)\n",
    "ax.set(xlim = (min(x)-10, max(x)+10),ylim=(min(y)-100, max(y)+100))\n",
    "ax = sns.scatterplot(x=\"idade\", y=\"custo\", data=df, alpha=0.75);\n",
    "ax = sns.lineplot(x=\"x_idade\", y=\"y_custo\", data=reta_df, alpha=0.5, palette=\"husl\");"
   ]
  },
  {
   "cell_type": "markdown",
   "metadata": {},
   "source": [
    "### Verificando o como o modelo se saiu"
   ]
  },
  {
   "cell_type": "code",
   "execution_count": 23,
   "metadata": {},
   "outputs": [
    {
     "name": "stdout",
     "output_type": "stream",
     "text": [
      "RMSE: 251.64\n",
      "MAE: 190.37\n",
      "R2: 0.93228\n",
      "R2 Ajustado: 0.921\n",
      "MSE: 6.3321e+04\n"
     ]
    }
   ],
   "source": [
    "from sklearn.metrics import mean_absolute_error, mean_squared_error, r2_score\n",
    "\n",
    "print(\"RMSE: {:.5}\".format(np.sqrt(mean_squared_error(y_test, y_pred))))\n",
    "print(\"MAE: {:.5}\".format(mean_absolute_error(y_test, y_pred)))\n",
    "# print(\"MAPE:, \", mean_absolute_percentage_error(y_test, y_pred))\n",
    "print(\"R2: {:.5}\".format(r2_score(y_test, y_pred)))\n",
    "\n",
    "################################################################################\n",
    "# Cálculo do R2 ajustado:\n",
    "def r2_ajustado(x_train, y_test, y_pred):\n",
    "    \"\"\"\n",
    "    r2_ajustado retorna o R² Ajustado e recebe como argumento as séries com o\n",
    "    valor alvo teste e o predito.\n",
    "    \"\"\"\n",
    "    n = x_train.shape[0]\n",
    "    k = x_train.shape[1]\n",
    "    return (1-((n-1)/(n-(k+1)))*(1-r2_score(y_test, y_pred)))\n",
    "################################################################################\n",
    "\n",
    "print(\"R2 Ajustado: {:.5}\".format(r2_ajustado(x_train, y_test, y_pred)))\n",
    "print(\"MSE: {:.5}\".format(mean_squared_error(y_test, y_pred)))"
   ]
  },
  {
   "cell_type": "markdown",
   "metadata": {},
   "source": [
    "### Erro Quadrático\n",
    "Erro quadrático penalisa exponencialmente mais os erros. Assim, erros grande são muito piores que erros pequenos. Uma desvantágem é que a escala do erro quadrático é o quadrado da escala do target, fazendo com que a interpretação seja difícil.\n",
    "\n",
    "### Erro Absoluto\n",
    "O erro absoluto é na mesma escala do target, tendo interpretação fácil. Ele pondera linearmente erros maiores e por isso é mais robusto a outliers.\n",
    "\n",
    "### Raíz Quadrada do Erro Quadrático\n",
    "Mesmas vantagens e desvantagens do erro quadrático com a vantágem adicional de ser mais fácil de interpretar. A escolha entre esse erro e o erro absoluto vai do quanto você quer penalizar erros maiores. \n",
    "\n",
    "![img](https://matheusfacure.github.io/img/tutorial/cost-median-mean.png)\n",
    "\n",
    "### $R^2$\n",
    "O $R^2$ é uma métrica entre zero e um e é fácilmente interpretável como a explicação da variância do target pelo modelo. O $R^2$ também nos dá quão melhor estamos a partir da média (benchmark inicial). Porém, não é fácil saber a magnitude dos erros só pelo $R^2$.\n",
    "\n",
    "Tutorial Completo em\n",
    "https://matheusfacure.github.io/2017/03/03/func-custo-regr/"
   ]
  },
  {
   "cell_type": "markdown",
   "metadata": {},
   "source": [
    "### Agora, usando validação cruzada."
   ]
  },
  {
   "cell_type": "code",
   "execution_count": 20,
   "metadata": {},
   "outputs": [
    {
     "name": "stdout",
     "output_type": "stream",
     "text": [
      "Acurácia média: -28.3 ± 28.0.\n"
     ]
    }
   ],
   "source": [
    "resultados = cross_val_score(regressor, x, y, cv = 2)\n",
    "\n",
    "print(\"Acurácia média: {:.3} ± {:.3}.\".format(resultados.mean(), resultados.std()))"
   ]
  }
 ],
 "metadata": {
  "kernelspec": {
   "display_name": "Python 3",
   "language": "python",
   "name": "python3"
  },
  "language_info": {
   "codemirror_mode": {
    "name": "ipython",
    "version": 3
   },
   "file_extension": ".py",
   "mimetype": "text/x-python",
   "name": "python",
   "nbconvert_exporter": "python",
   "pygments_lexer": "ipython3",
   "version": "3.7.0"
  }
 },
 "nbformat": 4,
 "nbformat_minor": 2
}
